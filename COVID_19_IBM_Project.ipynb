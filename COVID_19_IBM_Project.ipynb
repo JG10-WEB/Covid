{
  "nbformat": 4,
  "nbformat_minor": 0,
  "metadata": {
    "kernelspec": {
      "display_name": "Python 3",
      "language": "python",
      "name": "python3"
    },
    "language_info": {
      "codemirror_mode": {
        "name": "ipython",
        "version": 3
      },
      "file_extension": ".py",
      "mimetype": "text/x-python",
      "name": "python",
      "nbconvert_exporter": "python",
      "pygments_lexer": "ipython3",
      "version": "3.7.4"
    },
    "colab": {
      "name": "COVID-19_IBM_Project (1).ipynb",
      "provenance": []
    }
  },
  "cells": [
    {
      "cell_type": "code",
      "metadata": {
        "id": "GtWZr9vnJrJM"
      },
      "source": [
        "import numpy as np # linear algebra\n",
        "import pandas as pd # data processing\n",
        "import matplotlib.pyplot as plt\n",
        "import seaborn as sns\n",
        "%matplotlib inline"
      ],
      "execution_count": null,
      "outputs": []
    },
    {
      "cell_type": "code",
      "metadata": {
        "id": "lzYMDdzVJrJP",
        "outputId": "a8455057-d5b0-4a7e-aedc-98ddabebf6e5"
      },
      "source": [
        "# Explore the data\n",
        "df = pd.read_csv('covid_19_data.csv') \n",
        "df.head()"
      ],
      "execution_count": null,
      "outputs": [
        {
          "output_type": "stream",
          "text": [
            "C:\\Users\\AENA\\Anaconda3\\lib\\site-packages\\IPython\\core\\interactiveshell.py:3058: DtypeWarning: Columns (1,2,3,4) have mixed types. Specify dtype option on import or set low_memory=False.\n",
            "  interactivity=interactivity, compiler=compiler, result=result)\n"
          ],
          "name": "stderr"
        },
        {
          "output_type": "execute_result",
          "data": {
            "text/html": [
              "<div>\n",
              "<style scoped>\n",
              "    .dataframe tbody tr th:only-of-type {\n",
              "        vertical-align: middle;\n",
              "    }\n",
              "\n",
              "    .dataframe tbody tr th {\n",
              "        vertical-align: top;\n",
              "    }\n",
              "\n",
              "    .dataframe thead th {\n",
              "        text-align: right;\n",
              "    }\n",
              "</style>\n",
              "<table border=\"1\" class=\"dataframe\">\n",
              "  <thead>\n",
              "    <tr style=\"text-align: right;\">\n",
              "      <th></th>\n",
              "      <th>SrNo</th>\n",
              "      <th>ObvDate</th>\n",
              "      <th>Province</th>\n",
              "      <th>Country</th>\n",
              "      <th>LastUpdate</th>\n",
              "      <th>Confirmed</th>\n",
              "      <th>Deaths</th>\n",
              "      <th>Recovery</th>\n",
              "    </tr>\n",
              "  </thead>\n",
              "  <tbody>\n",
              "    <tr>\n",
              "      <td>0</td>\n",
              "      <td>1.0</td>\n",
              "      <td>9/23/2020</td>\n",
              "      <td>Beijing</td>\n",
              "      <td>Mainland China</td>\n",
              "      <td>9/24/2020 4:23</td>\n",
              "      <td>935.0</td>\n",
              "      <td>9.0</td>\n",
              "      <td>926.0</td>\n",
              "    </tr>\n",
              "    <tr>\n",
              "      <td>1</td>\n",
              "      <td>2.0</td>\n",
              "      <td>9/23/2020</td>\n",
              "      <td>Belgorod Oblast</td>\n",
              "      <td>Russia</td>\n",
              "      <td>9/24/2020 4:23</td>\n",
              "      <td>8422.0</td>\n",
              "      <td>57.0</td>\n",
              "      <td>7643.0</td>\n",
              "    </tr>\n",
              "    <tr>\n",
              "      <td>2</td>\n",
              "      <td>3.0</td>\n",
              "      <td>9/23/2020</td>\n",
              "      <td>Berlin</td>\n",
              "      <td>Germany</td>\n",
              "      <td>9/24/2020 4:23</td>\n",
              "      <td>13572.0</td>\n",
              "      <td>228.0</td>\n",
              "      <td>11935.0</td>\n",
              "    </tr>\n",
              "    <tr>\n",
              "      <td>3</td>\n",
              "      <td>4.0</td>\n",
              "      <td>9/23/2020</td>\n",
              "      <td>Bermuda</td>\n",
              "      <td>UK</td>\n",
              "      <td>9/24/2020 4:23</td>\n",
              "      <td>181.0</td>\n",
              "      <td>9.0</td>\n",
              "      <td>167.0</td>\n",
              "    </tr>\n",
              "    <tr>\n",
              "      <td>4</td>\n",
              "      <td>5.0</td>\n",
              "      <td>9/23/2020</td>\n",
              "      <td>Bihar</td>\n",
              "      <td>India</td>\n",
              "      <td>9/24/2020 4:23</td>\n",
              "      <td>171255.0</td>\n",
              "      <td>873.0</td>\n",
              "      <td>157454.0</td>\n",
              "    </tr>\n",
              "  </tbody>\n",
              "</table>\n",
              "</div>"
            ],
            "text/plain": [
              "   SrNo    ObvDate         Province         Country      LastUpdate  \\\n",
              "0   1.0  9/23/2020          Beijing  Mainland China  9/24/2020 4:23   \n",
              "1   2.0  9/23/2020  Belgorod Oblast          Russia  9/24/2020 4:23   \n",
              "2   3.0  9/23/2020           Berlin         Germany  9/24/2020 4:23   \n",
              "3   4.0  9/23/2020          Bermuda              UK  9/24/2020 4:23   \n",
              "4   5.0  9/23/2020            Bihar           India  9/24/2020 4:23   \n",
              "\n",
              "   Confirmed  Deaths  Recovery  \n",
              "0      935.0     9.0     926.0  \n",
              "1     8422.0    57.0    7643.0  \n",
              "2    13572.0   228.0   11935.0  \n",
              "3      181.0     9.0     167.0  \n",
              "4   171255.0   873.0  157454.0  "
            ]
          },
          "metadata": {
            "tags": []
          },
          "execution_count": 2
        }
      ]
    },
    {
      "cell_type": "code",
      "metadata": {
        "id": "NMVO2xfzJrJQ",
        "outputId": "43af6163-767d-471a-faf3-d346fbe71507"
      },
      "source": [
        "# Checking any missing(NaN) values is present\n",
        "df.isnull().sum()"
      ],
      "execution_count": null,
      "outputs": [
        {
          "output_type": "execute_result",
          "data": {
            "text/plain": [
              "SrNo          116286\n",
              "ObvDate       116286\n",
              "Province      116286\n",
              "Country       116286\n",
              "LastUpdate    116286\n",
              "Confirmed     116286\n",
              "Deaths        116286\n",
              "Recovery      116286\n",
              "dtype: int64"
            ]
          },
          "metadata": {
            "tags": []
          },
          "execution_count": 3
        }
      ]
    },
    {
      "cell_type": "code",
      "metadata": {
        "id": "c85KLbRoJrJQ"
      },
      "source": [
        "data = df.dropna(axis='rows')"
      ],
      "execution_count": null,
      "outputs": []
    },
    {
      "cell_type": "code",
      "metadata": {
        "id": "bD2-Dx-DJrJR",
        "outputId": "e84b17c7-428e-4ddf-d744-519d4e83c3a5"
      },
      "source": [
        "data.head()"
      ],
      "execution_count": null,
      "outputs": [
        {
          "output_type": "execute_result",
          "data": {
            "text/html": [
              "<div>\n",
              "<style scoped>\n",
              "    .dataframe tbody tr th:only-of-type {\n",
              "        vertical-align: middle;\n",
              "    }\n",
              "\n",
              "    .dataframe tbody tr th {\n",
              "        vertical-align: top;\n",
              "    }\n",
              "\n",
              "    .dataframe thead th {\n",
              "        text-align: right;\n",
              "    }\n",
              "</style>\n",
              "<table border=\"1\" class=\"dataframe\">\n",
              "  <thead>\n",
              "    <tr style=\"text-align: right;\">\n",
              "      <th></th>\n",
              "      <th>SrNo</th>\n",
              "      <th>ObvDate</th>\n",
              "      <th>Province</th>\n",
              "      <th>Country</th>\n",
              "      <th>LastUpdate</th>\n",
              "      <th>Confirmed</th>\n",
              "      <th>Deaths</th>\n",
              "      <th>Recovery</th>\n",
              "    </tr>\n",
              "  </thead>\n",
              "  <tbody>\n",
              "    <tr>\n",
              "      <td>0</td>\n",
              "      <td>1.0</td>\n",
              "      <td>9/23/2020</td>\n",
              "      <td>Beijing</td>\n",
              "      <td>Mainland China</td>\n",
              "      <td>9/24/2020 4:23</td>\n",
              "      <td>935.0</td>\n",
              "      <td>9.0</td>\n",
              "      <td>926.0</td>\n",
              "    </tr>\n",
              "    <tr>\n",
              "      <td>1</td>\n",
              "      <td>2.0</td>\n",
              "      <td>9/23/2020</td>\n",
              "      <td>Belgorod Oblast</td>\n",
              "      <td>Russia</td>\n",
              "      <td>9/24/2020 4:23</td>\n",
              "      <td>8422.0</td>\n",
              "      <td>57.0</td>\n",
              "      <td>7643.0</td>\n",
              "    </tr>\n",
              "    <tr>\n",
              "      <td>2</td>\n",
              "      <td>3.0</td>\n",
              "      <td>9/23/2020</td>\n",
              "      <td>Berlin</td>\n",
              "      <td>Germany</td>\n",
              "      <td>9/24/2020 4:23</td>\n",
              "      <td>13572.0</td>\n",
              "      <td>228.0</td>\n",
              "      <td>11935.0</td>\n",
              "    </tr>\n",
              "    <tr>\n",
              "      <td>3</td>\n",
              "      <td>4.0</td>\n",
              "      <td>9/23/2020</td>\n",
              "      <td>Bermuda</td>\n",
              "      <td>UK</td>\n",
              "      <td>9/24/2020 4:23</td>\n",
              "      <td>181.0</td>\n",
              "      <td>9.0</td>\n",
              "      <td>167.0</td>\n",
              "    </tr>\n",
              "    <tr>\n",
              "      <td>4</td>\n",
              "      <td>5.0</td>\n",
              "      <td>9/23/2020</td>\n",
              "      <td>Bihar</td>\n",
              "      <td>India</td>\n",
              "      <td>9/24/2020 4:23</td>\n",
              "      <td>171255.0</td>\n",
              "      <td>873.0</td>\n",
              "      <td>157454.0</td>\n",
              "    </tr>\n",
              "  </tbody>\n",
              "</table>\n",
              "</div>"
            ],
            "text/plain": [
              "   SrNo    ObvDate         Province         Country      LastUpdate  \\\n",
              "0   1.0  9/23/2020          Beijing  Mainland China  9/24/2020 4:23   \n",
              "1   2.0  9/23/2020  Belgorod Oblast          Russia  9/24/2020 4:23   \n",
              "2   3.0  9/23/2020           Berlin         Germany  9/24/2020 4:23   \n",
              "3   4.0  9/23/2020          Bermuda              UK  9/24/2020 4:23   \n",
              "4   5.0  9/23/2020            Bihar           India  9/24/2020 4:23   \n",
              "\n",
              "   Confirmed  Deaths  Recovery  \n",
              "0      935.0     9.0     926.0  \n",
              "1     8422.0    57.0    7643.0  \n",
              "2    13572.0   228.0   11935.0  \n",
              "3      181.0     9.0     167.0  \n",
              "4   171255.0   873.0  157454.0  "
            ]
          },
          "metadata": {
            "tags": []
          },
          "execution_count": 5
        }
      ]
    },
    {
      "cell_type": "code",
      "metadata": {
        "id": "91MQ2DYoJrJR",
        "outputId": "7338510e-8d81-4948-c7ea-95a271e34139"
      },
      "source": [
        "# Checking any missing(NaN) values is present\n",
        "data.isnull().sum()"
      ],
      "execution_count": null,
      "outputs": [
        {
          "output_type": "execute_result",
          "data": {
            "text/plain": [
              "SrNo          0\n",
              "ObvDate       0\n",
              "Province      0\n",
              "Country       0\n",
              "LastUpdate    0\n",
              "Confirmed     0\n",
              "Deaths        0\n",
              "Recovery      0\n",
              "dtype: int64"
            ]
          },
          "metadata": {
            "tags": []
          },
          "execution_count": 6
        }
      ]
    },
    {
      "cell_type": "code",
      "metadata": {
        "id": "l2zS6DhlJrJS",
        "outputId": "eab30369-5f63-4556-af85-8e22c2b05571"
      },
      "source": [
        "Country = data['Country'].head(32) \n",
        "Confirmed = data['Confirmed'].head(32)\n",
        "  \n",
        "# Figure Size \n",
        "fig, ax = plt.subplots(figsize =(10, 6)) \n",
        "  \n",
        "# Horizontal Bar Plot \n",
        "ax.barh(Country, Confirmed) \n",
        "\n",
        "# Add Plot Title \n",
        "ax.set_title('COVID-19', \n",
        "             loc ='left', )\n",
        "ax.set_xlabel('Confirmed Cases')\n",
        "ax.set_ylabel('Countries')\n",
        "\n",
        "plt.show"
      ],
      "execution_count": null,
      "outputs": [
        {
          "output_type": "execute_result",
          "data": {
            "text/plain": [
              "<function matplotlib.pyplot.show(*args, **kw)>"
            ]
          },
          "metadata": {
            "tags": []
          },
          "execution_count": 7
        },
        {
          "output_type": "display_data",
          "data": {
            "image/png": "[encoded data removed]",
            "text/plain": [
              "<Figure size 720x432 with 1 Axes>"
            ]
          },
          "metadata": {
            "tags": [],
            "needs_background": "light"
          }
        }
      ]
    },
    {
      "cell_type": "code",
      "metadata": {
        "id": "G-WNbrqiJrJS",
        "outputId": "95f7ecc9-1259-4103-febc-3279f4717322"
      },
      "source": [
        "Country = data['Country'].head(32) \n",
        "Deaths = data['Deaths'].head(32)\n",
        "  \n",
        "# Figure Size \n",
        "fig, ax = plt.subplots(figsize =(10, 6)) \n",
        "  \n",
        "# Horizontal Bar Plot \n",
        "ax.barh(Country, Deaths) \n",
        "\n",
        "# Add Plot Title \n",
        "ax.set_title('COVID-19', \n",
        "             loc ='left', )\n",
        "ax.set_xlabel('Total Deaths')\n",
        "ax.set_ylabel('Countries')\n",
        "\n",
        "plt.show"
      ],
      "execution_count": null,
      "outputs": [
        {
          "output_type": "execute_result",
          "data": {
            "text/plain": [
              "<function matplotlib.pyplot.show(*args, **kw)>"
            ]
          },
          "metadata": {
            "tags": []
          },
          "execution_count": 8
        },
        {
          "output_type": "display_data",
          "data": {
            "image/png": "[encoded data removed]",
            "text/plain": [
              "<Figure size 720x432 with 1 Axes>"
            ]
          },
          "metadata": {
            "tags": [],
            "needs_background": "light"
          }
        }
      ]
    },
    {
      "cell_type": "code",
      "metadata": {
        "id": "TazlblPFJrJT",
        "outputId": "4f6ac4f0-b164-4cd3-e4c5-e2b104f645ab"
      },
      "source": [
        "Country = data['Country'].head(32) \n",
        "Recovery = df['Recovery'].head(32)\n",
        "  \n",
        "# Figure Size \n",
        "fig, ax = plt.subplots(figsize =(10, 6)) \n",
        "  \n",
        "# Horizontal Bar Plot \n",
        "ax.barh(Country, Recovery) \n",
        "\n",
        "# Add Plot Title \n",
        "ax.set_title('COVID-19', \n",
        "             loc ='left', )\n",
        "ax.set_xlabel('Recovered Cases')\n",
        "ax.set_ylabel('Countries')\n",
        "\n",
        "plt.show"
      ],
      "execution_count": null,
      "outputs": [
        {
          "output_type": "execute_result",
          "data": {
            "text/plain": [
              "<function matplotlib.pyplot.show(*args, **kw)>"
            ]
          },
          "metadata": {
            "tags": []
          },
          "execution_count": 9
        },
        {
          "output_type": "display_data",
          "data": {
            "image/png": "[encoded data removed]",
            "text/plain": [
              "<Figure size 720x432 with 1 Axes>"
            ]
          },
          "metadata": {
            "tags": [],
            "needs_background": "light"
          }
        }
      ]
    },
    {
      "cell_type": "code",
      "metadata": {
        "id": "gCkw0-8CJrJT",
        "outputId": "111376bf-7850-4216-a5f0-7f7c409a9867"
      },
      "source": [
        "df_group = df[['Country','Confirmed','Deaths','Recovery']]\n",
        "df_group.groupby(['Country']).mean()"
      ],
      "execution_count": null,
      "outputs": [
        {
          "output_type": "execute_result",
          "data": {
            "text/html": [
              "<div>\n",
              "<style scoped>\n",
              "    .dataframe tbody tr th:only-of-type {\n",
              "        vertical-align: middle;\n",
              "    }\n",
              "\n",
              "    .dataframe tbody tr th {\n",
              "        vertical-align: top;\n",
              "    }\n",
              "\n",
              "    .dataframe thead th {\n",
              "        text-align: right;\n",
              "    }\n",
              "</style>\n",
              "<table border=\"1\" class=\"dataframe\">\n",
              "  <thead>\n",
              "    <tr style=\"text-align: right;\">\n",
              "      <th></th>\n",
              "      <th>Confirmed</th>\n",
              "      <th>Deaths</th>\n",
              "      <th>Recovery</th>\n",
              "    </tr>\n",
              "    <tr>\n",
              "      <th>Country</th>\n",
              "      <th></th>\n",
              "      <th></th>\n",
              "      <th></th>\n",
              "    </tr>\n",
              "  </thead>\n",
              "  <tbody>\n",
              "    <tr>\n",
              "      <td>Australia</td>\n",
              "      <td>3838.142857</td>\n",
              "      <td>122.571429</td>\n",
              "      <td>3476.571429</td>\n",
              "    </tr>\n",
              "    <tr>\n",
              "      <td>Brazil</td>\n",
              "      <td>181885.590909</td>\n",
              "      <td>5654.727273</td>\n",
              "      <td>159430.090909</td>\n",
              "    </tr>\n",
              "    <tr>\n",
              "      <td>Canada</td>\n",
              "      <td>10223.615385</td>\n",
              "      <td>694.923077</td>\n",
              "      <td>8815.230769</td>\n",
              "    </tr>\n",
              "    <tr>\n",
              "      <td>Chile</td>\n",
              "      <td>34080.166667</td>\n",
              "      <td>962.833333</td>\n",
              "      <td>32232.750000</td>\n",
              "    </tr>\n",
              "    <tr>\n",
              "      <td>Colombia</td>\n",
              "      <td>20193.900000</td>\n",
              "      <td>642.933333</td>\n",
              "      <td>16824.166667</td>\n",
              "    </tr>\n",
              "    <tr>\n",
              "      <td>Denmark</td>\n",
              "      <td>232.500000</td>\n",
              "      <td>0.000000</td>\n",
              "      <td>215.000000</td>\n",
              "    </tr>\n",
              "    <tr>\n",
              "      <td>France</td>\n",
              "      <td>2450.000000</td>\n",
              "      <td>19.500000</td>\n",
              "      <td>1874.100000</td>\n",
              "    </tr>\n",
              "    <tr>\n",
              "      <td>Germany</td>\n",
              "      <td>11017.866667</td>\n",
              "      <td>326.333333</td>\n",
              "      <td>9706.866667</td>\n",
              "    </tr>\n",
              "    <tr>\n",
              "      <td>Hong Kong</td>\n",
              "      <td>5049.000000</td>\n",
              "      <td>104.000000</td>\n",
              "      <td>4749.000000</td>\n",
              "    </tr>\n",
              "    <tr>\n",
              "      <td>India</td>\n",
              "      <td>146478.181818</td>\n",
              "      <td>2542.636364</td>\n",
              "      <td>117728.181818</td>\n",
              "    </tr>\n",
              "    <tr>\n",
              "      <td>Italy</td>\n",
              "      <td>15664.157895</td>\n",
              "      <td>1855.421053</td>\n",
              "      <td>11431.789474</td>\n",
              "    </tr>\n",
              "    <tr>\n",
              "      <td>Japan</td>\n",
              "      <td>1625.413043</td>\n",
              "      <td>31.326087</td>\n",
              "      <td>1452.847826</td>\n",
              "    </tr>\n",
              "    <tr>\n",
              "      <td>Macau</td>\n",
              "      <td>46.000000</td>\n",
              "      <td>0.000000</td>\n",
              "      <td>46.000000</td>\n",
              "    </tr>\n",
              "    <tr>\n",
              "      <td>Mainland China</td>\n",
              "      <td>2810.766667</td>\n",
              "      <td>154.266667</td>\n",
              "      <td>2650.800000</td>\n",
              "    </tr>\n",
              "    <tr>\n",
              "      <td>Mexico</td>\n",
              "      <td>23268.241379</td>\n",
              "      <td>2430.448276</td>\n",
              "      <td>19744.068966</td>\n",
              "    </tr>\n",
              "    <tr>\n",
              "      <td>Netherlands</td>\n",
              "      <td>6348.937500</td>\n",
              "      <td>394.937500</td>\n",
              "      <td>40.125000</td>\n",
              "    </tr>\n",
              "    <tr>\n",
              "      <td>Pakistan</td>\n",
              "      <td>58172.200000</td>\n",
              "      <td>1244.400000</td>\n",
              "      <td>55743.000000</td>\n",
              "    </tr>\n",
              "    <tr>\n",
              "      <td>Peru</td>\n",
              "      <td>32675.000000</td>\n",
              "      <td>1352.000000</td>\n",
              "      <td>30309.000000</td>\n",
              "    </tr>\n",
              "    <tr>\n",
              "      <td>Russia</td>\n",
              "      <td>14017.736842</td>\n",
              "      <td>250.736842</td>\n",
              "      <td>11512.078947</td>\n",
              "    </tr>\n",
              "    <tr>\n",
              "      <td>Spain</td>\n",
              "      <td>36754.062500</td>\n",
              "      <td>1708.312500</td>\n",
              "      <td>8333.562500</td>\n",
              "    </tr>\n",
              "    <tr>\n",
              "      <td>Sweden</td>\n",
              "      <td>4274.095238</td>\n",
              "      <td>279.809524</td>\n",
              "      <td>0.000000</td>\n",
              "    </tr>\n",
              "    <tr>\n",
              "      <td>UK</td>\n",
              "      <td>29445.857143</td>\n",
              "      <td>2996.500000</td>\n",
              "      <td>160.285714</td>\n",
              "    </tr>\n",
              "    <tr>\n",
              "      <td>US</td>\n",
              "      <td>120113.777778</td>\n",
              "      <td>3566.611111</td>\n",
              "      <td>49449.185185</td>\n",
              "    </tr>\n",
              "    <tr>\n",
              "      <td>Ukraine</td>\n",
              "      <td>7018.074074</td>\n",
              "      <td>140.148148</td>\n",
              "      <td>3139.518519</td>\n",
              "    </tr>\n",
              "  </tbody>\n",
              "</table>\n",
              "</div>"
            ],
            "text/plain": [
              "                    Confirmed       Deaths       Recovery\n",
              "Country                                                  \n",
              "Australia         3838.142857   122.571429    3476.571429\n",
              "Brazil          181885.590909  5654.727273  159430.090909\n",
              "Canada           10223.615385   694.923077    8815.230769\n",
              "Chile            34080.166667   962.833333   32232.750000\n",
              "Colombia         20193.900000   642.933333   16824.166667\n",
              "Denmark            232.500000     0.000000     215.000000\n",
              "France            2450.000000    19.500000    1874.100000\n",
              "Germany          11017.866667   326.333333    9706.866667\n",
              "Hong Kong         5049.000000   104.000000    4749.000000\n",
              "India           146478.181818  2542.636364  117728.181818\n",
              "Italy            15664.157895  1855.421053   11431.789474\n",
              "Japan             1625.413043    31.326087    1452.847826\n",
              "Macau               46.000000     0.000000      46.000000\n",
              "Mainland China    2810.766667   154.266667    2650.800000\n",
              "Mexico           23268.241379  2430.448276   19744.068966\n",
              "Netherlands       6348.937500   394.937500      40.125000\n",
              "Pakistan         58172.200000  1244.400000   55743.000000\n",
              "Peru             32675.000000  1352.000000   30309.000000\n",
              "Russia           14017.736842   250.736842   11512.078947\n",
              "Spain            36754.062500  1708.312500    8333.562500\n",
              "Sweden            4274.095238   279.809524       0.000000\n",
              "UK               29445.857143  2996.500000     160.285714\n",
              "US              120113.777778  3566.611111   49449.185185\n",
              "Ukraine           7018.074074   140.148148    3139.518519"
            ]
          },
          "metadata": {
            "tags": []
          },
          "execution_count": 10
        }
      ]
    },
    {
      "cell_type": "code",
      "metadata": {
        "id": "DQJn6hSKJrJU"
      },
      "source": [
        "from sklearn.cluster import DBSCAN\n",
        "import sklearn.utils\n",
        "from sklearn.preprocessing import StandardScaler"
      ],
      "execution_count": null,
      "outputs": []
    },
    {
      "cell_type": "code",
      "metadata": {
        "id": "Y7YrZhNKJrJU",
        "outputId": "0456f914-cfa3-4025-f03f-f3f511b591b8"
      },
      "source": [
        "Clus_dataSet = data[['Confirmed','Deaths','Recovery']]\n",
        "Clus_dataSet = np.nan_to_num(Clus_dataSet)\n",
        "Clus_dataSet = np.array(Clus_dataSet, dtype=np.float64)\n",
        "#they might behave badly if the individual features do not more or less look like standard normally distributed data:\n",
        "#\n",
        "Clus_dataSet = StandardScaler().fit_transform(Clus_dataSet)\n",
        "print(Clus_dataSet)\n"
      ],
      "execution_count": null,
      "outputs": [
        {
          "output_type": "stream",
          "text": [
            "[[-0.36372027 -0.3510021  -0.18897506]\n",
            " [-0.29551007 -0.33835802 -0.14089554]\n",
            " [-0.24859108 -0.29331345 -0.11017389]\n",
            " ...\n",
            " [-0.36055894 -0.35310945 -0.18649843]\n",
            " [-0.32494605 -0.32913837 -0.17518181]\n",
            " [-0.10336083  0.0080373  -0.19560326]]\n"
          ],
          "name": "stdout"
        }
      ]
    },
    {
      "cell_type": "code",
      "metadata": {
        "id": "DStRaSJHJrJV",
        "outputId": "670a51b7-ccef-42d2-ad94-ded5474faf2f"
      },
      "source": [
        "db = DBSCAN(eps=0.3, min_samples=2).fit(Clus_dataSet)\n",
        "core_samples_mask = np.zeros_like(db.labels_, dtype=bool)\n",
        "core_samples_mask[db.core_sample_indices_] = True\n",
        "labels = db.labels_\n",
        "#print(labels)\n",
        "data['Clus_Db']=labels\n",
        "#print(core_samples_mask)"
      ],
      "execution_count": null,
      "outputs": [
        {
          "output_type": "stream",
          "text": [
            "C:\\Users\\AENA\\Anaconda3\\lib\\site-packages\\ipykernel_launcher.py:6: SettingWithCopyWarning: \n",
            "A value is trying to be set on a copy of a slice from a DataFrame.\n",
            "Try using .loc[row_indexer,col_indexer] = value instead\n",
            "\n",
            "See the caveats in the documentation: http://pandas.pydata.org/pandas-docs/stable/user_guide/indexing.html#returning-a-view-versus-a-copy\n",
            "  \n"
          ],
          "name": "stderr"
        }
      ]
    },
    {
      "cell_type": "code",
      "metadata": {
        "id": "8s47we4sJrJV"
      },
      "source": [
        "realClusterNum=len(set(labels)) - (1 if -1 in labels else 0)\n",
        "clusterNum = len(set(labels)) \n",
        "#print(realClusterNum)"
      ],
      "execution_count": null,
      "outputs": []
    },
    {
      "cell_type": "code",
      "metadata": {
        "id": "-wJzPprnJrJV",
        "outputId": "33a59f1f-a9f5-47d2-f354-993137f49e0f"
      },
      "source": [
        "# A sample of clusters\n",
        "print(data[['Confirmed','Deaths','Recovery','Clus_Db']].head())"
      ],
      "execution_count": null,
      "outputs": [
        {
          "output_type": "stream",
          "text": [
            "   Confirmed  Deaths  Recovery  Clus_Db\n",
            "0      935.0     9.0     926.0        0\n",
            "1     8422.0    57.0    7643.0        0\n",
            "2    13572.0   228.0   11935.0        0\n",
            "3      181.0     9.0     167.0        0\n",
            "4   171255.0   873.0  157454.0        1\n"
          ],
          "name": "stdout"
        }
      ]
    },
    {
      "cell_type": "code",
      "metadata": {
        "id": "BxsDqLOhJrJW",
        "outputId": "7a20a7b9-4e82-414c-a757-c24b5c776def"
      },
      "source": [
        "# number of labels\n",
        "print(\"number of labels: \", set(labels))"
      ],
      "execution_count": null,
      "outputs": [
        {
          "output_type": "stream",
          "text": [
            "number of labels:  {0, 1, 2, 3, 4, 5, 6, -1}\n"
          ],
          "name": "stdout"
        }
      ]
    },
    {
      "cell_type": "code",
      "metadata": {
        "id": "itLKEVEBJrJW",
        "outputId": "66b04cfd-08d2-4896-9c08-5c17c1e2c17a"
      },
      "source": [
        "# Black removed and is used for noise instead.\n",
        "unique_labels = set(labels)\n",
        "colors = [plt.cm.Spectral(each)\n",
        "          for each in np.linspace(0, 1, len(unique_labels))]\n",
        "for k, col in zip(unique_labels, colors):\n",
        "    if k == -1:\n",
        "        # Black used for noise.\n",
        "        col = [0, 0, 0, 1]\n",
        "\n",
        "    class_member_mask = (labels == k)\n",
        "\n",
        "    xy = Clus_dataSet[class_member_mask & core_samples_mask]\n",
        "    plt.plot(xy[:, 0], xy[:, 1], 'o', markerfacecolor=tuple(col),\n",
        "             markeredgecolor='k', markersize=7)\n",
        "\n",
        "    xy = Clus_dataSet[class_member_mask & ~core_samples_mask]\n",
        "    plt.plot(xy[:, 0], xy[:, 1], 'o', markerfacecolor=tuple(col),\n",
        "             markeredgecolor='k', markersize=3)\n",
        "\n",
        "plt.title('Estimated number of clusters: %d' % realClusterNum)\n",
        "plt.show()\n",
        "\n",
        "n_noise_ = list(labels).count(-1)\n",
        "print('number of noise(s): ', n_noise_)"
      ],
      "execution_count": null,
      "outputs": [
        {
          "output_type": "display_data",
          "data": {
            "image/png": "[encoded data removed]",
            "text/plain": [
              "<Figure size 432x288 with 1 Axes>"
            ]
          },
          "metadata": {
            "tags": [],
            "needs_background": "light"
          }
        },
        {
          "output_type": "stream",
          "text": [
            "number of noise(s):  32\n"
          ],
          "name": "stdout"
        }
      ]
    },
    {
      "cell_type": "code",
      "metadata": {
        "id": "htxvVPUwJrJX",
        "outputId": "e01b7ff5-5094-44cd-f7d2-dad6c318f727"
      },
      "source": [
        "for clust_number in set(labels):\n",
        "    clust_set = data[data.Clus_Db == clust_number]\n",
        "    if clust_number != -1:\n",
        "        print (\"Cluster \"+str(clust_number)+', Avg Confirmed: '+ str(round(np.mean(clust_set.Confirmed)))+\\\n",
        "               ', Avg Deaths: '+ str(round(np.mean(clust_set['Deaths'])))+\\\n",
        "               ', Avg Recovered: '+ str(round(np.mean(clust_set['Recovery'])))+', Count: '+ str(np.count_nonzero(clust_set.index)))"
      ],
      "execution_count": null,
      "outputs": [
        {
          "output_type": "stream",
          "text": [
            "Cluster 0, Avg Confirmed: 15589, Avg Deaths: 511, Avg Recovered: 8016, Count: 469\n",
            "Cluster 1, Avg Confirmed: 178879, Avg Deaths: 885, Avg Recovered: 152267, Count: 3\n",
            "Cluster 2, Avg Confirmed: 265456, Avg Deaths: 6666, Avg Recovered: 229812, Count: 2\n",
            "Cluster 3, Avg Confirmed: 254639, Avg Deaths: 4878, Avg Recovered: 219594, Count: 3\n",
            "Cluster 4, Avg Confirmed: 182439, Avg Deaths: 3727, Avg Recovered: 166056, Count: 6\n",
            "Cluster 5, Avg Confirmed: 154699, Avg Deaths: 5047, Avg Recovered: 0, Count: 2\n",
            "Cluster 6, Avg Confirmed: 191649, Avg Deaths: 2796, Avg Recovered: 0, Count: 2\n"
          ],
          "name": "stdout"
        }
      ]
    },
    {
      "cell_type": "code",
      "metadata": {
        "id": "txinLJ7PJrJX"
      },
      "source": [
        ""
      ],
      "execution_count": null,
      "outputs": []
    }
  ]
}